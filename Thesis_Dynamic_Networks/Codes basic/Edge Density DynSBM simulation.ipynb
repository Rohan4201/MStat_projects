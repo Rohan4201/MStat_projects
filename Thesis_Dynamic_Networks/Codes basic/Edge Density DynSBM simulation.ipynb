{
 "cells": [
  {
   "cell_type": "code",
   "execution_count": 1,
   "metadata": {},
   "outputs": [],
   "source": [
    "import numpy as np\n",
    "import matplotlib.pyplot as plt"
   ]
  },
  {
   "cell_type": "code",
   "execution_count": null,
   "metadata": {},
   "outputs": [],
   "source": [
    "#matrices = [np.array([[0.6,0.1],[0.1,0.7]]),\n",
    "#           np.array([[0.78,0.4],[0.4,0.84]]),\n",
    "#           np.array([[0.8,0.5],[0.5,0.8]]),\n",
    "#           np.array([[0.62,0.41],[0.41,0.6]]),\n",
    "#           np.array([[0.87,0.6],[0.6,0.5]])]\n",
    "\n",
    "def generate_33_symmetric_matrix(n):\n",
    "    symmetric_matrices = []\n",
    "\n",
    "    for _ in range(n):\n",
    "        random_matrix = np.random.rand(3, 3)\n",
    "        symmetric_matrix = 0.5 * (random_matrix + random_matrix.T)\n",
    "        symmetric_matrices.append(symmetric_matrix)\n",
    "\n",
    "    return symmetric_matrices\n"
   ]
  },
  {
   "cell_type": "markdown",
   "metadata": {},
   "source": [
    "# Working Slow code"
   ]
  },
  {
   "cell_type": "code",
   "execution_count": null,
   "metadata": {
    "scrolled": true
   },
   "outputs": [],
   "source": [
    "num_steps = 500\n",
    "num_nodes = 500\n",
    "initial_states = np.array([np.random.choice([0,1,2]) for _ in range(num_nodes)])\n",
    "num_groups = 3\n",
    "symmetric_matrices = generate_33_symmetric_matrix(num_steps)\n",
    "\n",
    "\n",
    "\n",
    "transition_matrix = np.array([[0.8 , 0.05 , 0.15],[0.2,0.75,0.05],[0.25,0.2,0.55]])\n",
    "\n",
    "\n",
    "# Initial states for each node\n",
    "initial_states = np.random.choice([0, 1, 2], size=num_nodes)\n",
    "\n",
    "\n",
    "# Initialize an array to store the Markov chains for each node\n",
    "markov_chains = np.zeros((num_nodes, num_steps), dtype=int)\n",
    "\n",
    "# Generate Markov chains\n",
    "for node in range(num_nodes):\n",
    "    current_state = initial_states[node]\n",
    "    for step in range(num_steps):\n",
    "        markov_chains[node, step] = current_state\n",
    "        current_state = np.random.choice([0, 1, 2], p=transition_matrix[current_state])\n",
    "\n",
    "\n",
    "\n",
    "## Creating graphs and plotting number of triangles\n",
    "\n",
    "def edge_density_dynsbm(num_nodes, num_steps, Z_nodes_time, symmetric_matrices, initial_states, num_groups=3, plot_networks = False):\n",
    "    edge_density_list = []\n",
    "    for time in range(num_steps):\n",
    "        edge_time = np.zeros(shape=(num_nodes, num_nodes))\n",
    "        for i in range(num_nodes):\n",
    "            for j in range(num_nodes):\n",
    "                q = Z_nodes_time[i, time]\n",
    "                l = Z_nodes_time[j, time]\n",
    "                beta_ql_t = symmetric_matrices[time][q, l]\n",
    "                edge_time[i, j] = int(np.random.binomial(n=1, p=beta_ql_t, size=1)[0])\n",
    "        edge_density_list.append(nx.density(nx.from_numpy_array(edge_time, create_using=nx.Graph)))\n",
    "    \n",
    "    return np.mean(np.array(edge_density_list))\n",
    "\n",
    "\n",
    "#den_list = edge_density_dynsbm(num_nodes = num_nodes, num_steps = num_steps, \n",
    "#                   Z_nodes_time = markov_chains, symmetric_matrices= symmetric_matrices,\n",
    "#                   initial_states= initial_states,num_groups=3) \n"
   ]
  },
  {
   "cell_type": "code",
   "execution_count": null,
   "metadata": {},
   "outputs": [],
   "source": [
    "plt.plot(range(1, num_steps+1), den_list)\n",
    "plt.xlabel('Time')\n",
    "plt.ylabel('Edge Density')\n",
    "plt.show()"
   ]
  },
  {
   "cell_type": "code",
   "execution_count": null,
   "metadata": {},
   "outputs": [],
   "source": [
    "import multiprocessing"
   ]
  },
  {
   "cell_type": "code",
   "execution_count": null,
   "metadata": {},
   "outputs": [],
   "source": [
    "def parallel_func(why):\n",
    "    print(why)\n",
    "    return edge_density_dynsbm(num_nodes = num_nodes, num_steps = num_steps, \n",
    "                   Z_nodes_time = markov_chains, symmetric_matrices= symmetric_matrices,\n",
    "                   initial_states= initial_states,num_groups=3) "
   ]
  },
  {
   "cell_type": "code",
   "execution_count": null,
   "metadata": {},
   "outputs": [],
   "source": [
    "num_processes = 4\n",
    "pool = multiprocessing.Pool(processes=num_processes)\n",
    "results = pool.map(parallel_func, range(100))\n",
    "pool.close()\n",
    "#pool.join()"
   ]
  },
  {
   "cell_type": "markdown",
   "metadata": {},
   "source": [
    "# Working Faster code"
   ]
  },
  {
   "cell_type": "code",
   "execution_count": null,
   "metadata": {},
   "outputs": [],
   "source": [
    "\n",
    "def generate_33_symmetric_matrix(n):\n",
    "    random_matrices = np.random.rand(n, 3, 3)\n",
    "    symmetric_matrices = 0.5 * (random_matrices + np.transpose(random_matrices, (0, 2, 1)))\n",
    "    return symmetric_matrices\n",
    "\n",
    "num_steps = 500\n",
    "num_nodes = 500\n",
    "num_groups = 3\n",
    "\n",
    "# Generate symmetric matrices\n",
    "symmetric_matrices = generate_33_symmetric_matrix(num_steps)\n",
    "\n",
    "# Transition matrix\n",
    "transition_matrix = np.array([[0.8, 0.05, 0.15], [0.2, 0.75, 0.05], [0.25, 0.2, 0.55]])\n",
    "\n",
    "# Initial states for each node\n",
    "initial_states = np.random.choice([0, 1, 2], size=num_nodes)\n",
    "\n"
   ]
  },
  {
   "cell_type": "code",
   "execution_count": null,
   "metadata": {},
   "outputs": [],
   "source": [
    "def edge_density_dynsbm_fun(initial_states, num_steps, num_nodes, symmetric_matrices, transition_matrix):\n",
    "    # Initialize edge density list\n",
    "    edge_density_list = []\n",
    "\n",
    "    # Iterate over steps\n",
    "    for step in range(num_steps):\n",
    "        if step == 0:\n",
    "            current_states = initial_states.copy()\n",
    "            previous_states = current_states.copy()\n",
    "\n",
    "            # Compute beta_ql_t for all node pairs\n",
    "            beta_ql_t = symmetric_matrices[step][previous_states[:, None], previous_states]\n",
    "\n",
    "            # Generate edge time matrix\n",
    "            edge_time = np.random.binomial(n=1, p=beta_ql_t)\n",
    "\n",
    "            # Compute edge density\n",
    "            edge_density_list.append(nx.density(nx.from_numpy_array(edge_time, create_using=nx.Graph)))\n",
    "        else:\n",
    "            previous_states = current_states.copy()\n",
    "\n",
    "            # Compute beta_ql_t for all node pairs\n",
    "            beta_ql_t = symmetric_matrices[step][previous_states[:, None], previous_states]\n",
    "\n",
    "            # Generate edge time matrix\n",
    "            edge_time = np.random.binomial(n=1, p=beta_ql_t)\n",
    "\n",
    "            # Compute edge density\n",
    "            edge_density_list.append(nx.density(nx.from_numpy_array(edge_time, create_using=nx.Graph)))\n",
    "\n",
    "            #current_states = np.random.choice([0, 1, 2], size=num_nodes, p=transition_matrix[previous_states[:, None], :].T)\n",
    "\n",
    "            for i in range(num_nodes):\n",
    "                current_states[i] = np.random.choice([0, 1, 2], p=transition_matrix[previous_states[i]])\n",
    "                \n",
    "    return np.mean(np.array(edge_density_list))\n"
   ]
  },
  {
   "cell_type": "code",
   "execution_count": null,
   "metadata": {},
   "outputs": [],
   "source": [
    "mean_densities = []\n",
    "for sim in range(30):\n",
    "    print(\"Simulation number \", sim)\n",
    "    mean_densities.append(edge_density_dynsbm_fun(initial_states = initial_states, \n",
    "                         num_steps = 500,\n",
    "                         num_nodes = 400,\n",
    "                         symmetric_matrices = symmetric_matrices,\n",
    "                         transition_matrix = transition_matrix))"
   ]
  },
  {
   "cell_type": "code",
   "execution_count": null,
   "metadata": {},
   "outputs": [],
   "source": [
    "plt.hist(mean_densities, bins=15)"
   ]
  },
  {
   "cell_type": "code",
   "execution_count": null,
   "metadata": {},
   "outputs": [],
   "source": [
    "import multiprocessing as mp\n",
    "\n",
    "\n",
    "with mp.Pool(mp.cpu_count()) as pool:\n",
    "        results = pool.starmap(edge_density_dynsbm_fun, [(initial_states, num_steps, num_nodes, symmetric_matrices, transition_matrix) for _ in range(num_simulations)])"
   ]
  },
  {
   "cell_type": "markdown",
   "metadata": {},
   "source": [
    "# Values of edge densities\n",
    "\n",
    "## nodes = 400, timestamps = 500"
   ]
  },
  {
   "cell_type": "code",
   "execution_count": 2,
   "metadata": {},
   "outputs": [],
   "source": [
    "#file_1 = np.load(\"D:/Rohan/Maths/MStat/Final Project/Dynamic Networks/Codes basic/Colab edge density data/results1_n400_T500_seed103.npy\")\n",
    "#file_2 = np.load(\"D:/Rohan/Maths/MStat/Final Project/Dynamic Networks/Codes basic/Colab edge density data/results2_n400_T500_seed103.npy\")\n",
    "#file_3 = np.load(\"D:/Rohan/Maths/MStat/Final Project/Dynamic Networks/Codes basic/Colab edge density data/results3_n400_T500_seed103.npy\")\n",
    "#file_4 = np.load(\"D:/Rohan/Maths/MStat/Final Project/Dynamic Networks/Codes basic/Colab edge density data/results4_n400_T500_seed103.npy\")\n",
    "#file_5 = np.load(\"D:/Rohan/Maths/MStat/Final Project/Dynamic Networks/Codes basic/Colab edge density data/results5_n400_T500_seed103.npy\")\n",
    "#file_6 = np.load(\"D:/Rohan/Maths/MStat/Final Project/Dynamic Networks/Codes basic/Colab edge density data/results6_n400_T500_seed103.npy\")\n",
    "#file_7 = np.load(\"D:/Rohan/Maths/MStat/Final Project/Dynamic Networks/Codes basic/Colab edge density data/results7_n400_T500_seed103.npy\")\n",
    "#file_8 = np.load(\"D:/Rohan/Maths/MStat/Final Project/Dynamic Networks/Codes basic/Colab edge density data/results8_n400_T500_seed103.npy\")\n",
    "\n",
    "\n",
    "#results_103 = np.load(\"D:/Rohan/Maths/MStat/Final Project/Dynamic Networks/Codes basic/Colab edge density data/pycharm_results.npy\")\n",
    "results_108 = np.load(\"D:/Rohan/Maths/MStat/Final Project/Dynamic Networks/Codes basic/Final simulations/full_edge_density_seed_108.npy\")"
   ]
  },
  {
   "cell_type": "code",
   "execution_count": null,
   "metadata": {},
   "outputs": [],
   "source": [
    "#results = np.concatenate((file_1, file_2, file_3, file_4, file_5, file_6, file_7, file_8), axis = 0)"
   ]
  },
  {
   "cell_type": "code",
   "execution_count": 3,
   "metadata": {},
   "outputs": [
    {
     "data": {
      "text/plain": [
       "(850, 500)"
      ]
     },
     "execution_count": 3,
     "metadata": {},
     "output_type": "execute_result"
    }
   ],
   "source": [
    "results_108.shape"
   ]
  },
  {
   "cell_type": "code",
   "execution_count": 4,
   "metadata": {},
   "outputs": [
    {
     "data": {
      "image/png": "[encoded data removed]",
      "text/plain": [
       "<Figure size 432x288 with 1 Axes>"
      ]
     },
     "metadata": {
      "needs_background": "light"
     },
     "output_type": "display_data"
    }
   ],
   "source": [
    "for i in range(results_108.shape[0]):\n",
    "    plt.plot(range(results_108.shape[1]), results_108[i,])\n",
    "\n",
    "plt.xlabel(\"Time\")\n",
    "plt.ylabel(\"Edge Density\")\n",
    "plt.show()"
   ]
  },
  {
   "cell_type": "code",
   "execution_count": null,
   "metadata": {},
   "outputs": [],
   "source": [
    "for i in range(1000):\n",
    "    plt.plot(range(500), results_108[i,])\n",
    "plt.xlabel(\"Time\")\n",
    "plt.ylabel(\"Edge Density\")\n",
    "plt.show()"
   ]
  },
  {
   "cell_type": "code",
   "execution_count": null,
   "metadata": {},
   "outputs": [],
   "source": [
    "plt.plot(range(500), np.mean(results, axis = 0))"
   ]
  },
  {
   "cell_type": "code",
   "execution_count": null,
   "metadata": {},
   "outputs": [],
   "source": [
    "plt.hist(np.mean(results_108, axis =1), bins = 35)\n",
    "plt.xlabel(\"Edge density\")\n",
    "plt.show()"
   ]
  },
  {
   "cell_type": "code",
   "execution_count": null,
   "metadata": {},
   "outputs": [],
   "source": [
    "plt.hist(np.mean(results_108, axis =1), bins = 35)\n",
    "plt.xlabel(\"Edge density\")\n",
    "plt.show()"
   ]
  },
  {
   "cell_type": "code",
   "execution_count": null,
   "metadata": {},
   "outputs": [],
   "source": [
    "plt.hist(500*(np.mean(results_103, axis =1) - np.mean(np.mean(results_103, axis =1))), bins=30)"
   ]
  },
  {
   "cell_type": "code",
   "execution_count": null,
   "metadata": {},
   "outputs": [],
   "source": [
    "print(\"Variance of average edge density: \", np.var(results_108[:,499]))\n",
    "print(\"Mean of edge density at t = 500: \", np.mean(results_108[:,499]))\n",
    "\n",
    "plt.hist(np.mean(results_108, axis =1), bins = 50, alpha = 0.4, color = \"red\", label = \"Edge densities\")\n",
    "plt.hist(np.random.normal(loc = np.mean(results_103, axis =1), scale = np.var(np.mean(results_103, axis =1)), size = 1000),\n",
    "         bins = 50, alpha = 0.4, color = \"yellow\", label = \"Normal dist\")\n",
    "plt.legend()\n",
    "plt.show()"
   ]
  },
  {
   "cell_type": "code",
   "execution_count": null,
   "metadata": {},
   "outputs": [],
   "source": [
    "plt.hist((np.mean(results_108, axis =1) - np.mean(np.mean(results_108, axis =1))), bins = 50)\n",
    "plt.xlabel(\"Average edge densities\")\n",
    "plt.show()"
   ]
  },
  {
   "cell_type": "code",
   "execution_count": null,
   "metadata": {},
   "outputs": [],
   "source": [
    "print(\"Variance of avg. edge density: \", np.var(np.mean(results_108, axis =1)))\n",
    "print(\"Mean of avg. edge density: \", np.mean(np.mean(results_108, axis =1)))"
   ]
  },
  {
   "cell_type": "code",
   "execution_count": null,
   "metadata": {},
   "outputs": [],
   "source": [
    "print(\"Variance of avg. edge density: \", np.var(np.mean(results_103, axis =1)))\n",
    "print(\"Mean of avg. edge density: \", np.mean(np.mean(results_103, axis =1)))\n",
    "plt.hist(np.mean(results_103, axis =1), bins = 50, label = \"Edge densities\")\n",
    "plt.show()"
   ]
  },
  {
   "cell_type": "code",
   "execution_count": 59,
   "metadata": {},
   "outputs": [
    {
     "name": "stdout",
     "output_type": "stream",
     "text": [
      "Variance of avg. edge density:  1.5568642972996611e-07\n",
      "Mean of avg. edge density:  0.7811996524251804\n"
     ]
    },
    {
     "data": {
      "image/png": "[encoded data removed]",
      "text/plain": [
       "<Figure size 432x288 with 1 Axes>"
      ]
     },
     "metadata": {
      "needs_background": "light"
     },
     "output_type": "display_data"
    }
   ],
   "source": [
    "print(\"Variance of avg. edge density: \", np.var(np.mean(results_108, axis =1)))\n",
    "print(\"Mean of avg. edge density: \", np.mean(np.mean(results_108, axis =1)))\n",
    "plt.hist(np.mean(results_108, axis =1), bins = 50, label = \"Edge densities\")\n",
    "plt.show()"
   ]
  },
  {
   "cell_type": "code",
   "execution_count": 42,
   "metadata": {},
   "outputs": [
    {
     "name": "stdout",
     "output_type": "stream",
     "text": [
      "Variance of edge density at t= 500:  2.1383663519179885e-05\n",
      "Mean of edge density at t = 500:  0.8478525726079905\n"
     ]
    },
    {
     "data": {
      "image/png": "[encoded data removed]",
      "text/plain": [
       "<Figure size 432x288 with 1 Axes>"
      ]
     },
     "metadata": {
      "needs_background": "light"
     },
     "output_type": "display_data"
    }
   ],
   "source": [
    "print(\"Variance of edge density at t= 500: \", np.var(results_108[:,499]))\n",
    "print(\"Mean of edge density at t = 500: \", np.mean(results_108[:,499]))\n",
    "\n",
    "plt.hist(results_108[:,499], bins = 35)\n",
    "# plt.hist(np.random.normal(size = 1000, loc = np.mean(results_103[:,499]), scale = np.var(results_103[:,499])), bins = 40, alpha = 0.4, color = \"yellow\")\n",
    "plt.xlabel(\"Edge density at t = 500\")\n",
    "plt.show()\n",
    "\n",
    "#plt.hist(np.random.normal(loc = 0, scale = np.var(results[:,499]), size = 1000), bins = 50, alpha = 0.3, color = \"red\")"
   ]
  },
  {
   "cell_type": "code",
   "execution_count": null,
   "metadata": {},
   "outputs": [],
   "source": [
    "print(\"Variance of edge density at t= 500: \", np.var(results_108[:,499]))\n",
    "print(\"Mean of edge density at t = 500: \", np.mean(results_108[:,499]))\n",
    "\n",
    "plt.hist(results_108[:,499], bins = 40)\n",
    "# plt.hist(np.random.normal(size = 1000, loc = np.mean(results_103[:,499]), scale = np.var(results_103[:,499])), bins = 40, alpha = 0.4, color = \"yellow\")\n",
    "plt.xlabel(\"Edge density at t = 500\")\n",
    "plt.show()\n"
   ]
  },
  {
   "cell_type": "markdown",
   "metadata": {},
   "source": [
    "## Final time distribution"
   ]
  },
  {
   "cell_type": "code",
   "execution_count": 24,
   "metadata": {},
   "outputs": [],
   "source": [
    "results_108 = np.load(\"D:/Rohan/Maths/MStat/Final Project/Dynamic Networks/Codes basic/Final simulations/full_edge_density_seed_108.npy\")"
   ]
  },
  {
   "cell_type": "code",
   "execution_count": 25,
   "metadata": {},
   "outputs": [
    {
     "data": {
      "text/plain": [
       "(850, 500)"
      ]
     },
     "execution_count": 25,
     "metadata": {},
     "output_type": "execute_result"
    }
   ],
   "source": [
    "results_108.shape"
   ]
  },
  {
   "cell_type": "code",
   "execution_count": 26,
   "metadata": {},
   "outputs": [],
   "source": [
    "final_time_edge_dens = results_108[:,results_108.shape[1]-1]"
   ]
  },
  {
   "cell_type": "code",
   "execution_count": 35,
   "metadata": {},
   "outputs": [
    {
     "data": {
      "text/plain": [
       "850"
      ]
     },
     "execution_count": 35,
     "metadata": {},
     "output_type": "execute_result"
    }
   ],
   "source": [
    "np.sum(final_time_edge_dens==results_108[:,-1])"
   ]
  },
  {
   "cell_type": "code",
   "execution_count": 9,
   "metadata": {},
   "outputs": [],
   "source": [
    "def generate_33_symmetric_matrix(n):\n",
    "    np.random.seed(108)\n",
    "    random_matrices = np.random.rand(n, 3, 3)\n",
    "    symmetric_matrices = 0.5 * (random_matrices + np.transpose(random_matrices, (0, 2, 1)))\n",
    "    np.random.seed(108)\n",
    "    diag_vals = np.random.uniform(low=0.55, high=0.9, size=3)\n",
    "    for i in range(n):\n",
    "        np.fill_diagonal(symmetric_matrices[i], diag_vals)\n",
    "    return symmetric_matrices\n",
    "\n",
    "final_matrix = (generate_33_symmetric_matrix(results_108.shape[1]))[results_108.shape[1]-1]"
   ]
  },
  {
   "cell_type": "code",
   "execution_count": 36,
   "metadata": {},
   "outputs": [],
   "source": [
    "pycharm_matrices = np.load('D:/Rohan/Maths/MStat/Final Project/Dynamic Networks/Codes basic/Final simulations/symm_matrices.npy')"
   ]
  },
  {
   "cell_type": "code",
   "execution_count": 47,
   "metadata": {},
   "outputs": [
    {
     "name": "stdout",
     "output_type": "stream",
     "text": [
      "[[0.70123892 0.56325762 0.72000887]\n",
      " [0.56325762 0.61097534 0.40643682]\n",
      " [0.72000887 0.40643682 0.60983029]]\n"
     ]
    }
   ],
   "source": [
    "final_matrix = pycharm_matrices[-1]\n",
    "print(final_matrix)"
   ]
  },
  {
   "cell_type": "code",
   "execution_count": 38,
   "metadata": {},
   "outputs": [],
   "source": [
    "transition_matrix = np.array([[0.8, 0.05, 0.15], [0.2, 0.75, 0.05], [0.25, 0.2, 0.55]])\n",
    "transition_matrix_power = np.linalg.matrix_power(transition_matrix, 499)"
   ]
  },
  {
   "cell_type": "code",
   "execution_count": 48,
   "metadata": {},
   "outputs": [],
   "source": [
    "first_term_expected_density = (1/3)*np.dot(np.array([1,1,1]), transition_matrix_power)"
   ]
  },
  {
   "cell_type": "code",
   "execution_count": 49,
   "metadata": {},
   "outputs": [],
   "source": [
    "final_time_expected_edge_density = np.dot(np.dot(first_term_expected_density, final_matrix), first_term_expected_density.T)"
   ]
  },
  {
   "cell_type": "code",
   "execution_count": 54,
   "metadata": {},
   "outputs": [
    {
     "data": {
      "text/plain": [
       "1.3603038868616795"
      ]
     },
     "execution_count": 54,
     "metadata": {},
     "output_type": "execute_result"
    }
   ],
   "source": [
    "np.mean(final_time_edge_dens)/final_time_expected_edge_density"
   ]
  },
  {
   "cell_type": "code",
   "execution_count": 55,
   "metadata": {},
   "outputs": [
    {
     "data": {
      "image/png": "[encoded data removed]",
      "text/plain": [
       "<Figure size 432x288 with 1 Axes>"
      ]
     },
     "metadata": {
      "needs_background": "light"
     },
     "output_type": "display_data"
    }
   ],
   "source": [
    "plt.hist(results_108[:,results_108.shape[1]-1], bins = 40)\n",
    "plt.xlabel(\"Edge density at t = 500\")\n",
    "plt.show()"
   ]
  },
  {
   "cell_type": "code",
   "execution_count": 58,
   "metadata": {},
   "outputs": [
    {
     "data": {
      "text/plain": [
       "array([[350.61946098, 247.98701546, 251.93658205],\n",
       "       [247.98701546, 305.48767106, 252.44316523],\n",
       "       [251.93658205, 252.44316523, 304.91514492]])"
      ]
     },
     "execution_count": 58,
     "metadata": {},
     "output_type": "execute_result"
    }
   ],
   "source": [
    "np.sum(pycharm_matrices, axis = 0)"
   ]
  },
  {
   "cell_type": "code",
   "execution_count": 60,
   "metadata": {},
   "outputs": [
    {
     "data": {
      "text/plain": [
       "0.5685029248035773"
      ]
     },
     "execution_count": 60,
     "metadata": {},
     "output_type": "execute_result"
    }
   ],
   "source": [
    "avg_symm_matrices = (1/500) *np.sum(pycharm_matrices, axis = 0)\n",
    "np.dot(np.dot(first_term_expected_density, avg_symm_matrices), first_term_expected_density.T)"
   ]
  },
  {
   "cell_type": "code",
   "execution_count": 46,
   "metadata": {},
   "outputs": [
    {
     "data": {
      "image/png": "[encoded data removed]",
      "text/plain": [
       "<Figure size 432x288 with 1 Axes>"
      ]
     },
     "metadata": {
      "needs_background": "light"
     },
     "output_type": "display_data"
    }
   ],
   "source": [
    "difference = []\n",
    "for i in [100,200,300,400,500,600,700,850]:\n",
    "    avg = np.mean(final_time_edge_dens[range(i)])\n",
    "    difference.append(avg - final_time_expected_edge_density)\n",
    "\n",
    "plt.plot([100,200,300,400,500,600,700,850], difference)\n",
    "plt.show()"
   ]
  },
  {
   "cell_type": "code",
   "execution_count": null,
   "metadata": {},
   "outputs": [],
   "source": []
  }
 ],
 "metadata": {
  "kernelspec": {
   "display_name": "Python 3",
   "language": "python",
   "name": "python3"
  },
  "language_info": {
   "codemirror_mode": {
    "name": "ipython",
    "version": 3
   },
   "file_extension": ".py",
   "mimetype": "text/x-python",
   "name": "python",
   "nbconvert_exporter": "python",
   "pygments_lexer": "ipython3",
   "version": "3.8.5"
  }
 },
 "nbformat": 4,
 "nbformat_minor": 4
}
