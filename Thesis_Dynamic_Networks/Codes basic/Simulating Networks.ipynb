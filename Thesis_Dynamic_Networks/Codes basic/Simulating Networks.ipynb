{
 "cells": [
  {
   "cell_type": "code",
   "execution_count": 1,
   "metadata": {},
   "outputs": [
    {
     "name": "stdout",
     "output_type": "stream",
     "text": [
      "Collecting igraph\n",
      "  Downloading igraph-0.11.2-cp38-cp38-win_amd64.whl (2.9 MB)\n",
      "Collecting texttable>=1.6.2\n",
      "  Downloading texttable-1.7.0-py2.py3-none-any.whl (10 kB)\n",
      "Installing collected packages: texttable, igraph\n",
      "Successfully installed igraph-0.11.2 texttable-1.7.0\n"
     ]
    }
   ],
   "source": [
    "!pip install igraph"
   ]
  },
  {
   "cell_type": "code",
   "execution_count": 3,
   "metadata": {},
   "outputs": [],
   "source": [
    "import networkx as nx\n",
    "import igraph as ig"
   ]
  },
  {
   "cell_type": "code",
   "execution_count": 39,
   "metadata": {},
   "outputs": [],
   "source": [
    "import numpy as np\n",
    "import itertools"
   ]
  },
  {
   "cell_type": "code",
   "execution_count": 26,
   "metadata": {},
   "outputs": [],
   "source": [
    "from IPython.display import display, HTML"
   ]
  },
  {
   "cell_type": "code",
   "execution_count": 14,
   "metadata": {},
   "outputs": [],
   "source": [
    "import matplotlib.pyplot as plt\n",
    "from matplotlib.animation import FuncAnimation"
   ]
  },
  {
   "cell_type": "code",
   "execution_count": 31,
   "metadata": {},
   "outputs": [],
   "source": [
    "\n",
    "\n",
    "def animate_graphs(graphs):\n",
    "    fig, ax = plt.subplots()\n",
    "    \n",
    "    def update(i):\n",
    "        ax.clear()\n",
    "        nx.draw(graphs[i], ax=ax)\n",
    "    \n",
    "    anim = FuncAnimation(fig, update, frames=len(graphs), interval=100)\n",
    "    display(HTML(anim.to_jshtml()))\n",
    "\n"
   ]
  },
  {
   "cell_type": "markdown",
   "metadata": {},
   "source": [
    "## Descriptive statistics"
   ]
  },
  {
   "cell_type": "code",
   "execution_count": 117,
   "metadata": {},
   "outputs": [],
   "source": [
    "motifs = {\n",
    "    '2-star': nx.Graph([(1,2),(2,3)]),\n",
    "    'Triangle': nx.Graph([(1,2),(1,3),(2,3)]),\n",
    "    'Square': nx.Graph([(1,2),(2,3),(3,4),(1,4)]),\n",
    "    'Square_one_diag': nx.Graph([(1,2),(3,2),(3,4), (1,4), (1,3)])\n",
    "    }\n",
    "\n",
    "\n",
    "\n",
    "def calculate_closeness(G):\n",
    "    closeness_centrality = {}\n",
    "    for node in G.nodes():\n",
    "        closeness_centrality[node] = nx.closeness_centrality(G, node, wf_improved = False)\n",
    "    return closeness_centrality\n",
    "\n",
    "def calculate_centrality(G):\n",
    "    return nx.degree_centrality(G)\n",
    "\n",
    "def calculate_betweenness(G):\n",
    "    return nx.betweenness_centrality(G)\n",
    "\n",
    "def calculate_motif_count(G, mo):\n",
    "    mcount = dict(zip(mo.keys(), list(map(int, np.zeros(len(mo))))))\n",
    "    nodes = G.nodes()\n",
    "\n",
    "    triplets = list(itertools.product(*[nodes, nodes, nodes]))\n",
    "    quadralets = list(itertools.product(*[nodes, nodes, nodes, nodes]))\n",
    "    triplets = [trip for trip in triplets if len(list(set(trip))) == 3]\n",
    "    quadralets = [quad for quad in quadralets if len(list(set(quad))) == 4]\n",
    "    triplets = map(list, map(np.sort, triplets))\n",
    "    u_triplets = []\n",
    "\n",
    "    for trip in triplets:\n",
    "        if u_triplets.count(trip)== 0:\n",
    "            u_triplets.append(trip)\n",
    "\n",
    "    quadralets = map(list, map(np.sort, quadralets))\n",
    "    for quad in quadralets:\n",
    "        if u_quadralets.count(quad)== 0:\n",
    "            u_quadralets.append(quad)\n",
    "    three_node_mo = list(mo.keys())[0:2]\n",
    "    four_node_mo = list(mo.keys())[2:4]\n",
    "\n",
    "\n",
    "    for trip in u_triplets:\n",
    "        sub_gr = G.subgraph(trip)\n",
    "        mot_match = list(map(lambda mot_id: nx.is_isomorphic(sub_gr, mo[mot_id]), three_node_mo))\n",
    "        match_keys = [three_node_mo[i] for i in range(2) if mot_match[i]]\n",
    "        if len(match_keys) == 1:\n",
    "            mcount[match_keys[0]] += 1\n",
    "    for quad in u_quadralets:\n",
    "        sub_gr = G.subgraph(quad)\n",
    "        mot_match = list(map(lambda mot_id: nx.is_isomorphic(sub_gr, mo[mot_id]), four_node_mo))\n",
    "        match_keys = [four_node_mo[i] for i in range(2) if mot_match[i]]\n",
    "        if len(match_keys) == 1:\n",
    "            mcount[match_keys[0]] += 1\n",
    "    return mcount\n",
    "\n"
   ]
  },
  {
   "cell_type": "markdown",
   "metadata": {},
   "source": [
    "## Simulating Erdos Renyi Random Graphs"
   ]
  },
  {
   "cell_type": "code",
   "execution_count": 141,
   "metadata": {},
   "outputs": [],
   "source": [
    "graphs = []\n",
    "for i in range(20):\n",
    "    G = nx.erdos_renyi_graph(5, np.random.uniform())\n",
    "    graphs.append(G)\n",
    "\n",
    "# Animate the graphs\n",
    "\n",
    "#animate_graphs(graphs)"
   ]
  },
  {
   "cell_type": "code",
   "execution_count": 142,
   "metadata": {},
   "outputs": [
    {
     "name": "stdout",
     "output_type": "stream",
     "text": [
      "Closeness centrality: {0: 0.8, 1: 0.8, 2: 0.8, 3: 0.5, 4: 0.5714285714285714}\n",
      "Degree centrality: {0: 0.75, 1: 0.75, 2: 0.75, 3: 0.25, 4: 0.5}\n",
      "Betweenness centrality: {0: 0.5, 1: 0.16666666666666666, 2: 0.16666666666666666, 3: 0.0, 4: 0.0}\n",
      "Motif count: {'2-star': 4, 'Triangle': 2, 'Square': 0, 'Square_one_diag': 1}\n"
     ]
    }
   ],
   "source": [
    "closeness_centrality = calculate_closeness(G)\n",
    "degree_centrality = calculate_centrality(G)\n",
    "betweenness_centrality = calculate_betweenness(G)\n",
    "motif_count = calculate_motif_count(G, motifs)\n",
    "\n",
    "print(\"Closeness centrality:\", closeness_centrality)\n",
    "print(\"Degree centrality:\", degree_centrality)\n",
    "print(\"Betweenness centrality:\", betweenness_centrality)\n",
    "print(\"Motif count:\", motif_count)\n"
   ]
  },
  {
   "cell_type": "code",
   "execution_count": null,
   "metadata": {},
   "outputs": [],
   "source": []
  }
 ],
 "metadata": {
  "kernelspec": {
   "display_name": "Python 3",
   "language": "python",
   "name": "python3"
  },
  "language_info": {
   "codemirror_mode": {
    "name": "ipython",
    "version": 3
   },
   "file_extension": ".py",
   "mimetype": "text/x-python",
   "name": "python",
   "nbconvert_exporter": "python",
   "pygments_lexer": "ipython3",
   "version": "3.8.5"
  }
 },
 "nbformat": 4,
 "nbformat_minor": 4
}
