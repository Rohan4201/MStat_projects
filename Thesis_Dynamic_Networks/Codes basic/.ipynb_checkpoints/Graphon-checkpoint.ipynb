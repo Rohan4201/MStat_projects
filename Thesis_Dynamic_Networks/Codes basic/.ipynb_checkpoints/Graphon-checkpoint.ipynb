{
 "cells": [
  {
   "cell_type": "markdown",
   "metadata": {},
   "source": [
    "# Simulating from Graphon"
   ]
  },
  {
   "cell_type": "code",
   "execution_count": 40,
   "metadata": {},
   "outputs": [],
   "source": [
    "import numpy as np\n",
    "import networkx as nx\n",
    "import seaborn as sns"
   ]
  },
  {
   "cell_type": "code",
   "execution_count": 41,
   "metadata": {},
   "outputs": [],
   "source": [
    "def create_graphon(n, p_ll, p_rl, p_lu, p_ru, bd_1 = 0.3, bd_2 = 0.2):\n",
    "    vertices = range(n)\n",
    "    vert_labels_1 = np.random.uniform(size = n)\n",
    "    vert_labels_2 = np.random.uniform(size = n)\n",
    "    edges = []\n",
    "\n",
    "    for i in range(n):\n",
    "        for j in range(n):\n",
    "            if (vert_labels_1[i] < bd_1)&(vert_labels_2[j] < bd_2):\n",
    "                if np.random.binomial(n=1, p = p_ll, size = 1) == 1:\n",
    "                    edges.append((i,j))\n",
    "            if (vert_labels_1[i] < bd_1)&(vert_labels_2[j] > bd_2):\n",
    "                if np.random.binomial(n=1, p = p_lu, size = 1) == 1:\n",
    "                    edges.append((i,j))\n",
    "            if (vert_labels_1[i] > bd_1)&(vert_labels_2[j] < bd_2):\n",
    "                if np.random.binomial(n=1, p = p_rl, size = 1) == 1:\n",
    "                    edges.append((i,j))\n",
    "            if (vert_labels_1[i] > bd_1)&(vert_labels_2[j] > bd_2):\n",
    "                if np.random.binomial(n=1, p = p_ru, size = 1) == 1:\n",
    "                    edges.append((i,j))\n",
    "    graph = nx.Graph(edges)\n",
    "    # nx.draw_circular(graph)\n",
    "    A = nx.to_numpy_array(graph, nodelist=list(graph.nodes))\n",
    "    sns.heatmap(A)"
   ]
  },
  {
   "cell_type": "code",
   "execution_count": null,
   "metadata": {},
   "outputs": [],
   "source": [
    "create_graphon(n = 10, p_ll = 0.1, p_rl = 0.1, p_lu = 0.91, p_ru = 0.1, bd_1 = 0.5, bd_2 = 0.5)"
   ]
  },
  {
   "cell_type": "code",
   "execution_count": null,
   "metadata": {},
   "outputs": [],
   "source": [
    "create_graphon(n = 100, p_ll = 0.1, p_rl = 0.1, p_lu = 0.91, p_ru = 0.1, bd_1 = 0.5, bd_2 = 0.5)"
   ]
  },
  {
   "cell_type": "code",
   "execution_count": 49,
   "metadata": {},
   "outputs": [
    {
     "name": "stderr",
     "output_type": "stream",
     "text": [
      "\n",
      "KeyboardInterrupt\n",
      "\n"
     ]
    },
    {
     "data": {
      "image/png": "[encoded data removed]",
      "text/plain": [
       "<Figure size 432x288 with 2 Axes>"
      ]
     },
     "metadata": {
      "needs_background": "light"
     },
     "output_type": "display_data"
    }
   ],
   "source": [
    "create_graphon(n = 5000, p_ll = 0.1, p_rl = 0.1, p_lu = 0.91, p_ru = 0.1, bd_1 = 0.5, bd_2 = 0.5)"
   ]
  },
  {
   "cell_type": "code",
   "execution_count": null,
   "metadata": {},
   "outputs": [],
   "source": []
  }
 ],
 "metadata": {
  "kernelspec": {
   "display_name": "Python 3",
   "language": "python",
   "name": "python3"
  },
  "language_info": {
   "codemirror_mode": {
    "name": "ipython",
    "version": 3
   },
   "file_extension": ".py",
   "mimetype": "text/x-python",
   "name": "python",
   "nbconvert_exporter": "python",
   "pygments_lexer": "ipython3",
   "version": "3.8.5"
  }
 },
 "nbformat": 4,
 "nbformat_minor": 4
}
