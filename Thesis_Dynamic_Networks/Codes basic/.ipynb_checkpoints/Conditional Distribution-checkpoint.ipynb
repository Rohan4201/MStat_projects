{
 "cells": [
  {
   "cell_type": "code",
   "execution_count": 1,
   "metadata": {},
   "outputs": [],
   "source": [
    "import numpy as np\n",
    "import matplotlib.pyplot as plt\n"
   ]
  },
  {
   "cell_type": "code",
   "execution_count": 2,
   "metadata": {},
   "outputs": [],
   "source": [
    "def generate_22_symmetric_matrix(n):\n",
    "    np.random.seed(103)\n",
    "    random_matrices = np.random.rand(n, 2, 2)\n",
    "    symmetric_matrices = 0.5 * (random_matrices + np.transpose(random_matrices, (0, 2, 1)))\n",
    "    np.random.seed(103)\n",
    "    diag_vals = np.random.uniform(low = 0.55, high = 0.9, size = 3)\n",
    "    for i in range(n):\n",
    "        np.fill_diagonal(symmetric_matrices[i], diag_vals)\n",
    "    return symmetric_matrices\n",
    "\n"
   ]
  },
  {
   "cell_type": "code",
   "execution_count": 3,
   "metadata": {},
   "outputs": [],
   "source": [
    "def simulated_edge_status(initial_states, num_steps, num_nodes, symmetric_matrices, transition_matrix):\n",
    "  # Initialize edge density list\n",
    "    edge_status = []\n",
    "    # Iterate over steps\n",
    "    for step in range(num_steps):\n",
    "        if step == 0:\n",
    "            current_states = initial_states.copy()\n",
    "            previous_states = current_states.copy()\n",
    "            \n",
    "            obtained_status = np.random.binomial(n=1, p=symmetric_matrices[step][previous_states[0], previous_states[1]])\n",
    "            for i in range(num_nodes):\n",
    "                current_states[i] = np.random.choice([0, 1], p=transition_matrix[previous_states[i]])\n",
    "            edge_status.append(obtained_status)\n",
    "        else:\n",
    "            previous_states = current_states.copy()\n",
    "            \n",
    "            obtained_status = np.random.binomial(n=1, p=symmetric_matrices[step][previous_states[0], previous_states[1]])\n",
    "            if step == num_steps-2:\n",
    "                while obtained_status != 1:\n",
    "                    obtained_status = np.random.binomial(n=1,\n",
    "                                                         p=symmetric_matrices[step][previous_states[0], previous_states[1]])\n",
    "            \n",
    "            for i in range(num_nodes):\n",
    "                current_states[i] = np.random.choice([0, 1], p=transition_matrix[previous_states[i]])\n",
    "            edge_status.append(obtained_status)\n",
    "\n",
    "    return edge_status[-2:]\n",
    "\n",
    "\n"
   ]
  },
  {
   "cell_type": "code",
   "execution_count": 4,
   "metadata": {},
   "outputs": [],
   "source": [
    "num_steps = 3\n",
    "num_nodes = 2\n",
    "num_groups = 2\n",
    "\n",
    "symmetric_matrices = generate_22_symmetric_matrix(num_steps)\n",
    "\n",
    "# Transition matrix\n",
    "transition_matrix = np.array([[0.6, 0.4], [0.4, 0.6]])\n",
    "initial_states = np.random.choice([0, 1], size=num_nodes)\n",
    "\n"
   ]
  },
  {
   "cell_type": "code",
   "execution_count": 22,
   "metadata": {},
   "outputs": [
    {
     "data": {
      "text/plain": [
       "[1, 1]"
      ]
     },
     "execution_count": 22,
     "metadata": {},
     "output_type": "execute_result"
    }
   ],
   "source": [
    "simulated_edge_status(initial_states, num_steps, num_nodes, symmetric_matrices, transition_matrix)"
   ]
  },
  {
   "cell_type": "code",
   "execution_count": null,
   "metadata": {},
   "outputs": [],
   "source": [
    "\n",
    "all_statuses = []\n",
    "num_simul = 1999900\n",
    "for _ in range(num_simul):\n",
    "    all_statuses.append(y_1_y_2_edge_status(initial_states, num_steps, num_nodes, symmetric_matrices, transition_matrix))\n",
    "\n",
    "\n",
    "all_statuses = np.array(all_statuses)\n",
    "\n",
    "print(\"simul:\", np.unique(all_statuses[:,1], return_counts=True)[1][1]/num_simul)\n",
    "print(\"theo:\", np.sum(np.matmul(np.matmul(transition_matrix, np.matmul(np.matmul(transition_matrix, symmetric_matrices[2]), transition_matrix) * symmetric_matrices[1]), transition_matrix))/np.sum(np.matmul(np.matmul(transition_matrix,symmetric_matrices[1]), transition_matrix)))"
   ]
  },
  {
   "cell_type": "code",
   "execution_count": 34,
   "metadata": {},
   "outputs": [
    {
     "name": "stdout",
     "output_type": "stream",
     "text": [
      "[[0.64798198 0.63983859]\n",
      " [0.47831031 0.47783587]\n",
      " [0.64870771 0.64843312]\n",
      " [0.53860861 0.53918141]\n",
      " [0.57971071 0.58081488]\n",
      " [0.49944244 0.50137882]\n",
      " [0.45400501 0.4568819 ]\n",
      " [0.45696897 0.46075817]\n",
      " [0.65762563 0.65877574]\n",
      " [0.52653554 0.52734864]\n",
      " [0.68018418 0.68031432]\n",
      " [0.54734835 0.54718541]\n",
      " [0.49006907 0.49249706]]\n"
     ]
    }
   ],
   "source": [
    "results = np.load('D:/Rohan/Maths/MStat/Final Project/Dynamic Networks/Codes basic/Colab edge density data/conditional_distribution.npy')\n",
    "print(results)"
   ]
  },
  {
   "cell_type": "code",
   "execution_count": 40,
   "metadata": {},
   "outputs": [
    {
     "data": {
      "image/png": "[encoded data removed]",
      "text/plain": [
       "<Figure size 432x288 with 1 Axes>"
      ]
     },
     "metadata": {
      "needs_background": "light"
     },
     "output_type": "display_data"
    }
   ],
   "source": [
    "plt.plot(range(2,15), results[:,0], 'x--', label = \"Simulated\", color = \"blue\")\n",
    "plt.plot(range(2,15), results[:,1], 'o:', label = \"Theoretical\", color = \"red\")\n",
    "plt.xlabel(\"Time Steps\")\n",
    "plt.ylabel(\"Conditional Probability\")\n",
    "plt.legend()\n",
    "plt.show()"
   ]
  },
  {
   "cell_type": "code",
   "execution_count": null,
   "metadata": {},
   "outputs": [],
   "source": []
  }
 ],
 "metadata": {
  "kernelspec": {
   "display_name": "Python 3",
   "language": "python",
   "name": "python3"
  },
  "language_info": {
   "codemirror_mode": {
    "name": "ipython",
    "version": 3
   },
   "file_extension": ".py",
   "mimetype": "text/x-python",
   "name": "python",
   "nbconvert_exporter": "python",
   "pygments_lexer": "ipython3",
   "version": "3.8.5"
  }
 },
 "nbformat": 4,
 "nbformat_minor": 4
}
