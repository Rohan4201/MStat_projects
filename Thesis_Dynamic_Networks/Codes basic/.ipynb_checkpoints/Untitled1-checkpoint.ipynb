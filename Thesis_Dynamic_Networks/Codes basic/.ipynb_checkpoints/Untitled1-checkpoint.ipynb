{
 "cells": [
  {
   "cell_type": "code",
   "execution_count": 64,
   "metadata": {},
   "outputs": [],
   "source": [
    "import numpy as np\n",
    "import matplotlib.pyplot as plt\n",
    "\n",
    "def generate_33_symmetric_matrix(n):\n",
    "    np.random.seed(103)\n",
    "    random_matrices = np.random.rand(n, 3, 3)\n",
    "    symmetric_matrices = 0.5 * (random_matrices + np.transpose(random_matrices, (0, 2, 1)))\n",
    "    np.random.seed(103)\n",
    "    diag_vals = np.random.uniform(low = 0.55, high = 0.9, size = 3)\n",
    "    for i in range(n):\n",
    "        np.fill_diagonal(symmetric_matrices[i], diag_vals)\n",
    "    return symmetric_matrices\n",
    "\n",
    "def rearrange_adjacency_matrix(adj, community_values):\n",
    "    # Get indices of nodes for each community\n",
    "    community_indices = [np.where(community_values == i)[0] for i in range(max(community_values) + 1)]\n",
    "\n",
    "    # Rearrange adjacency matrix\n",
    "    reordered_adj_matrix = np.zeros_like(adj)\n",
    "    row_offset = 0\n",
    "    col_offset = 0\n",
    "    for i, indices_i in enumerate(community_indices):\n",
    "        col_offset = 0\n",
    "        for j, indices_j in enumerate(community_indices):\n",
    "            reordered_adj_matrix[row_offset:row_offset+len(indices_i), col_offset:col_offset+len(indices_j)] = \\\n",
    "                adj[np.ix_(indices_i, indices_j)]\n",
    "            col_offset += len(indices_j)\n",
    "        row_offset += len(indices_i)\n",
    "\n",
    "    return reordered_adj_matrix\n",
    "\n",
    "\n",
    "\n",
    "def adj_mat_fun(initial_states, num_steps, num_nodes, symmetric_matrices, transition_matrix):\n",
    "  # Initialize edge density list\n",
    "\n",
    "    # Iterate over steps\n",
    "    for step in range(num_steps):\n",
    "        if step == 0:\n",
    "            current_states = initial_states.copy()\n",
    "            previous_states = current_states.copy()\n",
    "        elif step < num_steps-1:\n",
    "            previous_states = current_states.copy()\n",
    "\n",
    "            for i in range(num_nodes):\n",
    "                current_states[i] = np.random.choice([0, 1, 2], p=transition_matrix[previous_states[i]])\n",
    "                \n",
    "        if step == num_steps-1:\n",
    "            previous_states = current_states.copy()\n",
    "\n",
    "            # Compute beta_ql_t for all node pairs\n",
    "            beta_ql_t = symmetric_matrices[step][previous_states[:, None], previous_states]\n",
    "\n",
    "            # Generate edge time matrix\n",
    "            edge_time = np.random.binomial(n=1, p=beta_ql_t)\n",
    "            edge_time = np.maximum(edge_time, edge_time.T)\n",
    "\n",
    "            np.fill_diagonal(edge_time, np.zeros(num_nodes))\n",
    "            final_mat = rearrange_adjacency_matrix(edge_time, np.array(previous_states))\n",
    "            \n",
    "\n",
    "    return final_mat\n",
    "\n",
    "\n",
    "\n",
    "\n",
    "\n"
   ]
  },
  {
   "cell_type": "code",
   "execution_count": 59,
   "metadata": {
    "scrolled": true
   },
   "outputs": [
    {
     "name": "stdout",
     "output_type": "stream",
     "text": [
      "Stationary Distribution: [0.37962963 0.44444444 0.17592593]\n"
     ]
    }
   ],
   "source": [
    "num_steps = 4000\n",
    "num_nodes = 3000\n",
    "num_groups = 3\n",
    "\n",
    "# Generate symmetric matrices\n",
    "\n",
    "\n",
    "# Transition matrix\n",
    "transition_matrix = np.array([[0.65, 0.2, 0.15], [0.2, 0.75, 0.05], [0.25, 0.2, 0.55]])\n",
    "\n",
    "mat_solve = np.array([transition_matrix[:,0].tolist(),transition_matrix[:,1].tolist(), [1,1,1]]) - np.array([[1,0,0], [0,1,0],[0,0,0]])\n",
    "\n",
    "stationary_dist = np.linalg.solve(mat_solve, np.array([0,0,1]))\n",
    "print(\"Stationary Distribution:\", stationary_dist)\n",
    "\n"
   ]
  },
  {
   "cell_type": "code",
   "execution_count": 60,
   "metadata": {},
   "outputs": [
    {
     "data": {
      "text/plain": [
       "0.4894217400195003"
      ]
     },
     "execution_count": 60,
     "metadata": {},
     "output_type": "execute_result"
    }
   ],
   "source": [
    "symmetric_matrices = generate_33_symmetric_matrix(num_steps)\n",
    "initial_states = np.random.choice([0, 1, 2], size=num_nodes)\n",
    "np.matmul(np.matmul(stationary_dist, symmetric_matrices[num_steps-1]), stationary_dist) \n"
   ]
  },
  {
   "cell_type": "code",
   "execution_count": 61,
   "metadata": {},
   "outputs": [
    {
     "name": "stdout",
     "output_type": "stream",
     "text": [
      "Edge Density: 0.4011225306326582\n"
     ]
    },
    {
     "data": {
      "image/png": "[encoded data removed]",
      "text/plain": [
       "<Figure size 432x288 with 1 Axes>"
      ]
     },
     "metadata": {
      "needs_background": "light"
     },
     "output_type": "display_data"
    },
    {
     "ename": "KeyboardInterrupt",
     "evalue": "",
     "output_type": "error",
     "traceback": [
      "\u001b[1;31m---------------------------------------------------------------------------\u001b[0m",
      "\u001b[1;31mKeyboardInterrupt\u001b[0m                         Traceback (most recent call last)",
      "\u001b[1;32m<ipython-input-61-319a23ce6ff0>\u001b[0m in \u001b[0;36m<module>\u001b[1;34m\u001b[0m\n\u001b[0;32m      3\u001b[0m     \u001b[1;31m#print(\"Last beta_ql_t:\\n\",symmetric_matrices[num_steps-1])\u001b[0m\u001b[1;33m\u001b[0m\u001b[1;33m\u001b[0m\u001b[1;33m\u001b[0m\u001b[0m\n\u001b[0;32m      4\u001b[0m     \u001b[0minitial_states\u001b[0m \u001b[1;33m=\u001b[0m \u001b[0mnp\u001b[0m\u001b[1;33m.\u001b[0m\u001b[0mrandom\u001b[0m\u001b[1;33m.\u001b[0m\u001b[0mchoice\u001b[0m\u001b[1;33m(\u001b[0m\u001b[1;33m[\u001b[0m\u001b[1;36m0\u001b[0m\u001b[1;33m,\u001b[0m \u001b[1;36m1\u001b[0m\u001b[1;33m,\u001b[0m \u001b[1;36m2\u001b[0m\u001b[1;33m]\u001b[0m\u001b[1;33m,\u001b[0m \u001b[0msize\u001b[0m\u001b[1;33m=\u001b[0m\u001b[0mnum_nodes\u001b[0m\u001b[1;33m)\u001b[0m\u001b[1;33m\u001b[0m\u001b[1;33m\u001b[0m\u001b[0m\n\u001b[1;32m----> 5\u001b[1;33m     \u001b[0madj_matrix\u001b[0m \u001b[1;33m=\u001b[0m \u001b[0madj_mat_fun\u001b[0m\u001b[1;33m(\u001b[0m\u001b[0minitial_states\u001b[0m\u001b[1;33m,\u001b[0m \u001b[0mnum_steps\u001b[0m\u001b[1;33m,\u001b[0m \u001b[0mnum_nodes\u001b[0m\u001b[1;33m,\u001b[0m \u001b[0msymmetric_matrices\u001b[0m\u001b[1;33m,\u001b[0m \u001b[0mtransition_matrix\u001b[0m\u001b[1;33m)\u001b[0m\u001b[1;33m\u001b[0m\u001b[1;33m\u001b[0m\u001b[0m\n\u001b[0m\u001b[0;32m      6\u001b[0m     \u001b[0mprint\u001b[0m\u001b[1;33m(\u001b[0m\u001b[1;34m\"Edge Density:\"\u001b[0m\u001b[1;33m,\u001b[0m \u001b[0mnp\u001b[0m\u001b[1;33m.\u001b[0m\u001b[0msum\u001b[0m\u001b[1;33m(\u001b[0m\u001b[0madj_matrix\u001b[0m\u001b[1;33m)\u001b[0m\u001b[1;33m/\u001b[0m\u001b[1;33m(\u001b[0m\u001b[0mnum_steps\u001b[0m \u001b[1;33m*\u001b[0m \u001b[1;33m(\u001b[0m\u001b[0mnum_steps\u001b[0m\u001b[1;33m-\u001b[0m\u001b[1;36m1\u001b[0m\u001b[1;33m)\u001b[0m\u001b[1;33m)\u001b[0m\u001b[1;33m)\u001b[0m\u001b[1;33m\u001b[0m\u001b[1;33m\u001b[0m\u001b[0m\n\u001b[0;32m      7\u001b[0m     \u001b[0mplt\u001b[0m\u001b[1;33m.\u001b[0m\u001b[0mimshow\u001b[0m\u001b[1;33m(\u001b[0m\u001b[0madj_matrix\u001b[0m\u001b[1;33m,\u001b[0m \u001b[0mcmap\u001b[0m\u001b[1;33m=\u001b[0m\u001b[1;34m'binary'\u001b[0m\u001b[1;33m,\u001b[0m \u001b[0minterpolation\u001b[0m\u001b[1;33m=\u001b[0m\u001b[1;34m'nearest'\u001b[0m\u001b[1;33m)\u001b[0m\u001b[1;33m\u001b[0m\u001b[1;33m\u001b[0m\u001b[0m\n",
      "\u001b[1;32m<ipython-input-52-398be7054a1c>\u001b[0m in \u001b[0;36madj_mat_fun\u001b[1;34m(initial_states, num_steps, num_nodes, symmetric_matrices, transition_matrix)\u001b[0m\n\u001b[0;32m     44\u001b[0m \u001b[1;33m\u001b[0m\u001b[0m\n\u001b[0;32m     45\u001b[0m             \u001b[1;32mfor\u001b[0m \u001b[0mi\u001b[0m \u001b[1;32min\u001b[0m \u001b[0mrange\u001b[0m\u001b[1;33m(\u001b[0m\u001b[0mnum_nodes\u001b[0m\u001b[1;33m)\u001b[0m\u001b[1;33m:\u001b[0m\u001b[1;33m\u001b[0m\u001b[1;33m\u001b[0m\u001b[0m\n\u001b[1;32m---> 46\u001b[1;33m                 \u001b[0mcurrent_states\u001b[0m\u001b[1;33m[\u001b[0m\u001b[0mi\u001b[0m\u001b[1;33m]\u001b[0m \u001b[1;33m=\u001b[0m \u001b[0mnp\u001b[0m\u001b[1;33m.\u001b[0m\u001b[0mrandom\u001b[0m\u001b[1;33m.\u001b[0m\u001b[0mchoice\u001b[0m\u001b[1;33m(\u001b[0m\u001b[1;33m[\u001b[0m\u001b[1;36m0\u001b[0m\u001b[1;33m,\u001b[0m \u001b[1;36m1\u001b[0m\u001b[1;33m,\u001b[0m \u001b[1;36m2\u001b[0m\u001b[1;33m]\u001b[0m\u001b[1;33m,\u001b[0m \u001b[0mp\u001b[0m\u001b[1;33m=\u001b[0m\u001b[0mtransition_matrix\u001b[0m\u001b[1;33m[\u001b[0m\u001b[0mprevious_states\u001b[0m\u001b[1;33m[\u001b[0m\u001b[0mi\u001b[0m\u001b[1;33m]\u001b[0m\u001b[1;33m]\u001b[0m\u001b[1;33m)\u001b[0m\u001b[1;33m\u001b[0m\u001b[1;33m\u001b[0m\u001b[0m\n\u001b[0m\u001b[0;32m     47\u001b[0m \u001b[1;33m\u001b[0m\u001b[0m\n\u001b[0;32m     48\u001b[0m         \u001b[1;32mif\u001b[0m \u001b[0mstep\u001b[0m \u001b[1;33m==\u001b[0m \u001b[0mnum_steps\u001b[0m\u001b[1;33m-\u001b[0m\u001b[1;36m1\u001b[0m\u001b[1;33m:\u001b[0m\u001b[1;33m\u001b[0m\u001b[1;33m\u001b[0m\u001b[0m\n",
      "\u001b[1;31mKeyboardInterrupt\u001b[0m: "
     ]
    }
   ],
   "source": [
    "for _ in range(5):\n",
    "    symmetric_matrices = generate_33_symmetric_matrix(num_steps)\n",
    "    #print(\"Last beta_ql_t:\\n\",symmetric_matrices[num_steps-1])\n",
    "    initial_states = np.random.choice([0, 1, 2], size=num_nodes)\n",
    "    adj_matrix = adj_mat_fun(initial_states, num_steps, num_nodes, symmetric_matrices, transition_matrix)\n",
    "    print(\"Edge Density:\", np.sum(adj_matrix)/(num_steps * (num_steps-1)))\n",
    "    plt.imshow(adj_matrix, cmap='binary', interpolation='nearest')\n",
    "    plt.title('Adjacency Matrix Heatmap')\n",
    "    plt.xlabel('Nodes')\n",
    "    plt.ylabel('Nodes')\n",
    "    plt.show()"
   ]
  },
  {
   "cell_type": "code",
   "execution_count": 46,
   "metadata": {},
   "outputs": [
    {
     "data": {
      "text/plain": [
       "0.8480121679197995"
      ]
     },
     "execution_count": 46,
     "metadata": {},
     "output_type": "execute_result"
    }
   ],
   "source": [
    "results_103 = np.load(\"D:/Rohan/Maths/MStat/Final Project/Dynamic Networks/Codes basic/Colab edge density data/pycharm_results.npy\")\n",
    "np.mean(results_103[:,num_steps-1])"
   ]
  },
  {
   "cell_type": "code",
   "execution_count": null,
   "metadata": {},
   "outputs": [],
   "source": [
    "if __name__ == '__main__':\n",
    "    num_steps = 500\n",
    "    num_nodes = 400\n",
    "    num_groups = 3\n",
    "\n",
    "    # Generate symmetric matrices\n",
    "    symmetric_matrices = generate_33_symmetric_matrix(num_steps)\n",
    "\n",
    "    # Transition matrix\n",
    "    transition_matrix = np.array([[0.8, 0.05, 0.15], [0.2, 0.75, 0.05], [0.25, 0.2, 0.55]])\n",
    "\n",
    "    # Initial states for each node\n",
    "    np.random.seed(108)\n",
    "    initial_states = np.random.choice([0, 1, 2], size=num_nodes)\n",
    "\n",
    "    num_simulations = 8\n",
    "    with mp.Pool(mp.cpu_count()) as pool:\n",
    "        results = pool.starmap(adj_mat_fun,\n",
    "                               [(initial_states, num_steps, num_nodes, symmetric_matrices, transition_matrix) for _ in\n",
    "                                range(num_simulations)])\n"
   ]
  },
  {
   "cell_type": "markdown",
   "metadata": {},
   "source": [
    "## Simulating the edge status"
   ]
  },
  {
   "cell_type": "code",
   "execution_count": 1,
   "metadata": {},
   "outputs": [],
   "source": [
    "import numpy as np\n",
    "import matplotlib.pyplot as plt\n",
    "\n",
    "def generate_33_symmetric_matrix(n):\n",
    "    np.random.seed(103)\n",
    "    random_matrices = np.random.rand(n, 3, 3)\n",
    "    symmetric_matrices = 0.5 * (random_matrices + np.transpose(random_matrices, (0, 2, 1)))\n",
    "    np.random.seed(103)\n",
    "    diag_vals = np.random.uniform(low = 0.55, high = 0.9, size = 3)\n",
    "    for i in range(n):\n",
    "        np.fill_diagonal(symmetric_matrices[i], diag_vals)\n",
    "    return symmetric_matrices\n",
    "\n",
    "\n",
    "def y_1_y_2_edge_status(initial_states, num_steps, num_nodes, symmetric_matrices, transition_matrix):\n",
    "  # Initialize edge density list\n",
    "    edge_status = []\n",
    "    # Iterate over steps\n",
    "    for step in range(num_steps):\n",
    "        \n",
    "        if step == 0:\n",
    "            current_states = initial_states.copy()\n",
    "            previous_states = current_states.copy()\n",
    "            edge_status.append(np.random.binomial(n=1, p=symmetric_matrices[step][previous_states[0], previous_states[1]]))\n",
    "            for i in range(num_nodes):\n",
    "                current_states[i] = np.random.choice([0, 1], p=transition_matrix[previous_states[i]])\n",
    "            \n",
    "        else:\n",
    "            previous_states = current_states.copy()\n",
    "            edge_status.append(np.random.binomial(n=1, p=symmetric_matrices[step][previous_states[0], previous_states[1]]))\n",
    "\n",
    "            for i in range(num_nodes):\n",
    "                current_states[i] = np.random.choice([0, 1], p=transition_matrix[previous_states[i]])\n",
    "\n",
    "    return edge_status\n",
    "\n",
    "\n",
    "\n",
    "\n",
    "\n"
   ]
  },
  {
   "cell_type": "code",
   "execution_count": 5,
   "metadata": {},
   "outputs": [],
   "source": [
    "num_steps = 3\n",
    "num_nodes = 2\n",
    "num_groups = 2\n",
    "\n",
    "\n",
    "def generate_22_symmetric_matrix(n):\n",
    "    np.random.seed(103)\n",
    "    random_matrices = np.random.rand(n, 2, 2)\n",
    "    symmetric_matrices = 0.5 * (random_matrices + np.transpose(random_matrices, (0, 2, 1)))\n",
    "    np.random.seed(103)\n",
    "    diag_vals = np.random.uniform(low = 0.55, high = 0.9, size = 3)\n",
    "    for i in range(n):\n",
    "        np.fill_diagonal(symmetric_matrices[i], diag_vals)\n",
    "    return symmetric_matrices\n",
    "# Generate symmetric matrices\n",
    "symmetric_matrices = generate_22_symmetric_matrix(num_steps)\n",
    "\n",
    "# Transition matrix\n",
    "transition_matrix = np.array([[0.6, 0.4], [0.4, 0.6]])\n",
    "initial_states = np.random.choice([0, 1], size=num_nodes)\n",
    "\n",
    "    "
   ]
  },
  {
   "cell_type": "code",
   "execution_count": 192,
   "metadata": {
    "scrolled": true
   },
   "outputs": [],
   "source": [
    "all_statuses = []\n",
    "num_simul = 999900\n",
    "for _ in range(num_simul):\n",
    "    all_statuses.append(y_1_y_2_edge_status(initial_states, num_steps, num_nodes, symmetric_matrices, transition_matrix))\n",
    "\n",
    "\n",
    "all_statuses = np.array(all_statuses)"
   ]
  },
  {
   "cell_type": "code",
   "execution_count": 193,
   "metadata": {},
   "outputs": [
    {
     "name": "stdout",
     "output_type": "stream",
     "text": [
      "[[0 0]\n",
      " [0 1]\n",
      " [1 0]\n",
      " [1 1]]\n"
     ]
    },
    {
     "data": {
      "text/plain": [
       "array([ 5.80588, 10.73132,  1.2155 ,  2.2453 ])"
      ]
     },
     "execution_count": 193,
     "metadata": {},
     "output_type": "execute_result"
    }
   ],
   "source": [
    "unique, counts = np.unique(all_statuses[:,0:2], return_counts=True, axis = 0)\n",
    "print(unique)\n",
    "counts/50000"
   ]
  },
  {
   "cell_type": "code",
   "execution_count": 194,
   "metadata": {},
   "outputs": [
    {
     "data": {
      "text/plain": [
       "0.6487806287563569"
      ]
     },
     "execution_count": 194,
     "metadata": {},
     "output_type": "execute_result"
    }
   ],
   "source": [
    "counts[3]/(np.unique(all_statuses[:,0], return_counts=True)[1][1])"
   ]
  },
  {
   "cell_type": "code",
   "execution_count": 195,
   "metadata": {},
   "outputs": [
    {
     "data": {
      "text/plain": [
       "0.6492308554837708"
      ]
     },
     "execution_count": 195,
     "metadata": {},
     "output_type": "execute_result"
    }
   ],
   "source": []
  },
  {
   "cell_type": "code",
   "execution_count": 170,
   "metadata": {},
   "outputs": [
    {
     "data": {
      "text/plain": [
       "(array([0, 1]), array([823, 177], dtype=int64))"
      ]
     },
     "execution_count": 170,
     "metadata": {},
     "output_type": "execute_result"
    }
   ],
   "source": [
    "np.unique(all_statuses[:,0], return_counts=True)"
   ]
  },
  {
   "cell_type": "code",
   "execution_count": 159,
   "metadata": {},
   "outputs": [
    {
     "data": {
      "text/plain": [
       "array([[0.70123892, 0.54038844, 0.47793597],\n",
       "       [0.54038844, 0.61097534, 0.50446164],\n",
       "       [0.47793597, 0.50446164, 0.60983029]])"
      ]
     },
     "execution_count": 159,
     "metadata": {},
     "output_type": "execute_result"
    }
   ],
   "source": [
    "symmetric_matrices[1]"
   ]
  },
  {
   "cell_type": "code",
   "execution_count": 6,
   "metadata": {},
   "outputs": [],
   "source": [
    "def y_1_y_2_edge_status(initial_states, num_steps, num_nodes, symmetric_matrices, transition_matrix):\n",
    "  # Initialize edge density list\n",
    "    edge_status = []\n",
    "    # Iterate over steps\n",
    "    for step in range(num_steps):\n",
    "        if step == 0:\n",
    "            current_states = initial_states.copy()\n",
    "            previous_states = current_states.copy()\n",
    "            \n",
    "            obtained_status = np.random.binomial(n=1, p=symmetric_matrices[step][previous_states[0], previous_states[1]])\n",
    "            for i in range(num_nodes):\n",
    "                current_states[i] = np.random.choice([0, 1], p=transition_matrix[previous_states[i]])\n",
    "            edge_status.append(obtained_status)\n",
    "        else:\n",
    "            previous_states = current_states.copy()\n",
    "            \n",
    "            obtained_status = np.random.binomial(n=1, p=symmetric_matrices[step][previous_states[0], previous_states[1]])\n",
    "            if step == num_steps-2:\n",
    "                while obtained_status != 1:\n",
    "                    obtained_status = np.random.binomial(n=1,\n",
    "                                                         p=symmetric_matrices[step][previous_states[0], previous_states[1]])\n",
    "            \n",
    "            for i in range(num_nodes):\n",
    "                current_states[i] = np.random.choice([0, 1], p=transition_matrix[previous_states[i]])\n",
    "            edge_status.append(obtained_status)\n",
    "\n",
    "    return edge_status\n",
    "\n"
   ]
  },
  {
   "cell_type": "code",
   "execution_count": 12,
   "metadata": {},
   "outputs": [
    {
     "name": "stdout",
     "output_type": "stream",
     "text": [
      "simul: 0.47870343517175856\n",
      "theo: 0.47948169768907695\n"
     ]
    }
   ],
   "source": [
    "num_steps = 3\n",
    "num_nodes = 2\n",
    "num_groups = 2\n",
    "all_statuses = []\n",
    "num_simul = 1999900\n",
    "for _ in range(num_simul):\n",
    "    all_statuses.append(y_1_y_2_edge_status(initial_states, num_steps, num_nodes, symmetric_matrices, transition_matrix))\n",
    "\n",
    "\n",
    "all_statuses = np.array(all_statuses)\n",
    "\n",
    "print(\"simul:\", np.unique(all_statuses[:,2], return_counts=True)[1][1]/num_simul)\n",
    "print(\"theo:\", np.sum(np.matmul(np.matmul(transition_matrix, np.matmul(np.matmul(transition_matrix, symmetric_matrices[2]), transition_matrix) * symmetric_matrices[1]), transition_matrix))/np.sum(np.matmul(np.matmul(transition_matrix,symmetric_matrices[1]), transition_matrix)))"
   ]
  },
  {
   "cell_type": "code",
   "execution_count": 209,
   "metadata": {},
   "outputs": [
    {
     "data": {
      "text/plain": [
       "array([[0.70123892, 0.64101925],\n",
       "       [0.64101925, 0.61097534]])"
      ]
     },
     "execution_count": 209,
     "metadata": {},
     "output_type": "execute_result"
    }
   ],
   "source": []
  },
  {
   "cell_type": "code",
   "execution_count": 208,
   "metadata": {},
   "outputs": [
    {
     "data": {
      "text/plain": [
       "array([[0.65789131, 0.64826143],\n",
       "       [0.64826143, 0.63983859]])"
      ]
     },
     "execution_count": 208,
     "metadata": {},
     "output_type": "execute_result"
    }
   ],
   "source": [
    "np.matmul(np.matmul(transition_matrix, symmetric_matrices[1]), transition_matrix)"
   ]
  },
  {
   "cell_type": "code",
   "execution_count": 214,
   "metadata": {},
   "outputs": [
    {
     "data": {
      "text/plain": [
       "array([[2, 0],\n",
       "       [4, 0]])"
      ]
     },
     "execution_count": 214,
     "metadata": {},
     "output_type": "execute_result"
    }
   ],
   "source": [
    "np.matmul(np.array([[1,2],[3,4]]), np.array([[0,0],[1,0]]))"
   ]
  },
  {
   "cell_type": "code",
   "execution_count": null,
   "metadata": {},
   "outputs": [],
   "source": []
  }
 ],
 "metadata": {
  "kernelspec": {
   "display_name": "Python 3",
   "language": "python",
   "name": "python3"
  },
  "language_info": {
   "codemirror_mode": {
    "name": "ipython",
    "version": 3
   },
   "file_extension": ".py",
   "mimetype": "text/x-python",
   "name": "python",
   "nbconvert_exporter": "python",
   "pygments_lexer": "ipython3",
   "version": "3.8.5"
  }
 },
 "nbformat": 4,
 "nbformat_minor": 4
}
